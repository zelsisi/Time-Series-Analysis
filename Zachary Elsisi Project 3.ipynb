{
 "cells": [
  {
   "cell_type": "code",
   "execution_count": 1,
   "id": "33dee6f3-b6a3-4056-a4d0-bca16cdc0201",
   "metadata": {
    "tags": []
   },
   "outputs": [],
   "source": [
    "#Zachary Elsisi Time Series Analysis"
   ]
  },
  {
   "cell_type": "code",
   "execution_count": 18,
   "id": "64226ed4-6e8d-47ce-9097-baa338d8f464",
   "metadata": {
    "tags": []
   },
   "outputs": [],
   "source": [
    "import pandas as pd\n",
    "import numpy as np\n",
    "import matplotlib.pyplot as plt\n",
    "import seaborn as sns\n",
    "from statsmodels.tsa.seasonal import seasonal_decompose\n",
    "import statsmodels.api as sm\n",
    "from prophet import Prophet"
   ]
  },
  {
   "cell_type": "code",
   "execution_count": 3,
   "id": "1601874e-5690-4a4b-96c7-17de45d9eaf3",
   "metadata": {},
   "outputs": [],
   "source": [
    "df = pd.read_pickle('shared/Project-3_NYC_311_Calls.pkl')"
   ]
  },
  {
   "cell_type": "code",
   "execution_count": 4,
   "id": "264b3a71-da7b-4d3e-a4d6-41c26ce6a46c",
   "metadata": {
    "tags": []
   },
   "outputs": [],
   "source": [
    "df = df.set_index(pd.DatetimeIndex(df['Created Date']))\n",
    "del df['Created Date']"
   ]
  },
  {
   "cell_type": "code",
   "execution_count": 5,
   "id": "76c17ab9-336d-4007-bce4-973f09bbc673",
   "metadata": {
    "tags": []
   },
   "outputs": [
    {
     "data": {
      "text/html": [
       "<div>\n",
       "<style scoped>\n",
       "    .dataframe tbody tr th:only-of-type {\n",
       "        vertical-align: middle;\n",
       "    }\n",
       "\n",
       "    .dataframe tbody tr th {\n",
       "        vertical-align: top;\n",
       "    }\n",
       "\n",
       "    .dataframe thead th {\n",
       "        text-align: right;\n",
       "    }\n",
       "</style>\n",
       "<table border=\"1\" class=\"dataframe\">\n",
       "  <thead>\n",
       "    <tr style=\"text-align: right;\">\n",
       "      <th></th>\n",
       "      <th>Unique Key</th>\n",
       "      <th>Agency</th>\n",
       "      <th>Agency Name</th>\n",
       "      <th>Complaint Type</th>\n",
       "      <th>Descriptor</th>\n",
       "      <th>Location Type</th>\n",
       "      <th>Incident Zip</th>\n",
       "      <th>City</th>\n",
       "      <th>Resolution Description</th>\n",
       "      <th>Borough</th>\n",
       "      <th>Open Data Channel Type</th>\n",
       "    </tr>\n",
       "    <tr>\n",
       "      <th>Created Date</th>\n",
       "      <th></th>\n",
       "      <th></th>\n",
       "      <th></th>\n",
       "      <th></th>\n",
       "      <th></th>\n",
       "      <th></th>\n",
       "      <th></th>\n",
       "      <th></th>\n",
       "      <th></th>\n",
       "      <th></th>\n",
       "      <th></th>\n",
       "    </tr>\n",
       "  </thead>\n",
       "  <tbody>\n",
       "    <tr>\n",
       "      <th>2011-04-06 00:00:00</th>\n",
       "      <td>20184537</td>\n",
       "      <td>HPD</td>\n",
       "      <td>Department of Housing Preservation and Develop...</td>\n",
       "      <td>HEATING</td>\n",
       "      <td>HEAT</td>\n",
       "      <td>RESIDENTIAL BUILDING</td>\n",
       "      <td>10002.0</td>\n",
       "      <td>NEW YORK</td>\n",
       "      <td>More than one complaint was received for this ...</td>\n",
       "      <td>MANHATTAN</td>\n",
       "      <td>UNKNOWN</td>\n",
       "    </tr>\n",
       "    <tr>\n",
       "      <th>2011-04-06 00:00:00</th>\n",
       "      <td>20184538</td>\n",
       "      <td>HPD</td>\n",
       "      <td>Department of Housing Preservation and Develop...</td>\n",
       "      <td>GENERAL CONSTRUCTION</td>\n",
       "      <td>WINDOWS</td>\n",
       "      <td>RESIDENTIAL BUILDING</td>\n",
       "      <td>11236.0</td>\n",
       "      <td>BROOKLYN</td>\n",
       "      <td>The Department of Housing Preservation and Dev...</td>\n",
       "      <td>BROOKLYN</td>\n",
       "      <td>UNKNOWN</td>\n",
       "    </tr>\n",
       "    <tr>\n",
       "      <th>2011-04-06 00:00:00</th>\n",
       "      <td>20184539</td>\n",
       "      <td>HPD</td>\n",
       "      <td>Department of Housing Preservation and Develop...</td>\n",
       "      <td>PAINT - PLASTER</td>\n",
       "      <td>WALLS</td>\n",
       "      <td>RESIDENTIAL BUILDING</td>\n",
       "      <td>10460.0</td>\n",
       "      <td>BRONX</td>\n",
       "      <td>The Department of Housing Preservation and Dev...</td>\n",
       "      <td>BRONX</td>\n",
       "      <td>UNKNOWN</td>\n",
       "    </tr>\n",
       "    <tr>\n",
       "      <th>2022-07-08 11:14:43</th>\n",
       "      <td>54732265</td>\n",
       "      <td>DSNY</td>\n",
       "      <td>Department of Sanitation</td>\n",
       "      <td>Dirty Condition</td>\n",
       "      <td>Trash</td>\n",
       "      <td>Sidewalk</td>\n",
       "      <td>10467.0</td>\n",
       "      <td>BRONX</td>\n",
       "      <td>The Department of Sanitation investigated this...</td>\n",
       "      <td>BRONX</td>\n",
       "      <td>PHONE</td>\n",
       "    </tr>\n",
       "    <tr>\n",
       "      <th>2011-04-06 00:00:00</th>\n",
       "      <td>20184540</td>\n",
       "      <td>HPD</td>\n",
       "      <td>Department of Housing Preservation and Develop...</td>\n",
       "      <td>NONCONST</td>\n",
       "      <td>VERMIN</td>\n",
       "      <td>RESIDENTIAL BUILDING</td>\n",
       "      <td>10460.0</td>\n",
       "      <td>BRONX</td>\n",
       "      <td>The Department of Housing Preservation and Dev...</td>\n",
       "      <td>BRONX</td>\n",
       "      <td>UNKNOWN</td>\n",
       "    </tr>\n",
       "    <tr>\n",
       "      <th>...</th>\n",
       "      <td>...</td>\n",
       "      <td>...</td>\n",
       "      <td>...</td>\n",
       "      <td>...</td>\n",
       "      <td>...</td>\n",
       "      <td>...</td>\n",
       "      <td>...</td>\n",
       "      <td>...</td>\n",
       "      <td>...</td>\n",
       "      <td>...</td>\n",
       "      <td>...</td>\n",
       "    </tr>\n",
       "    <tr>\n",
       "      <th>2011-04-06 00:00:00</th>\n",
       "      <td>20184532</td>\n",
       "      <td>HPD</td>\n",
       "      <td>Department of Housing Preservation and Develop...</td>\n",
       "      <td>HEATING</td>\n",
       "      <td>HEAT</td>\n",
       "      <td>RESIDENTIAL BUILDING</td>\n",
       "      <td>10468</td>\n",
       "      <td>BRONX</td>\n",
       "      <td>The Department of Housing Preservation and Dev...</td>\n",
       "      <td>BRONX</td>\n",
       "      <td>UNKNOWN</td>\n",
       "    </tr>\n",
       "    <tr>\n",
       "      <th>2011-04-06 00:00:00</th>\n",
       "      <td>20184533</td>\n",
       "      <td>HPD</td>\n",
       "      <td>Department of Housing Preservation and Develop...</td>\n",
       "      <td>HEATING</td>\n",
       "      <td>HEAT</td>\n",
       "      <td>RESIDENTIAL BUILDING</td>\n",
       "      <td>10018</td>\n",
       "      <td>NEW YORK</td>\n",
       "      <td>More than one complaint was received for this ...</td>\n",
       "      <td>MANHATTAN</td>\n",
       "      <td>UNKNOWN</td>\n",
       "    </tr>\n",
       "    <tr>\n",
       "      <th>2011-04-06 00:00:00</th>\n",
       "      <td>20184534</td>\n",
       "      <td>HPD</td>\n",
       "      <td>Department of Housing Preservation and Develop...</td>\n",
       "      <td>GENERAL CONSTRUCTION</td>\n",
       "      <td>STAIRS</td>\n",
       "      <td>RESIDENTIAL BUILDING</td>\n",
       "      <td>10460</td>\n",
       "      <td>BRONX</td>\n",
       "      <td>The Department of Housing Preservation and Dev...</td>\n",
       "      <td>BRONX</td>\n",
       "      <td>UNKNOWN</td>\n",
       "    </tr>\n",
       "    <tr>\n",
       "      <th>2011-04-06 00:00:00</th>\n",
       "      <td>20184535</td>\n",
       "      <td>HPD</td>\n",
       "      <td>Department of Housing Preservation and Develop...</td>\n",
       "      <td>GENERAL CONSTRUCTION</td>\n",
       "      <td>GAS</td>\n",
       "      <td>RESIDENTIAL BUILDING</td>\n",
       "      <td>11236</td>\n",
       "      <td>BROOKLYN</td>\n",
       "      <td>The Department of Housing Preservation and Dev...</td>\n",
       "      <td>BROOKLYN</td>\n",
       "      <td>UNKNOWN</td>\n",
       "    </tr>\n",
       "    <tr>\n",
       "      <th>2011-04-06 00:00:00</th>\n",
       "      <td>20184536</td>\n",
       "      <td>HPD</td>\n",
       "      <td>Department of Housing Preservation and Develop...</td>\n",
       "      <td>PLUMBING</td>\n",
       "      <td>WATER-LEAKS</td>\n",
       "      <td>RESIDENTIAL BUILDING</td>\n",
       "      <td>11236</td>\n",
       "      <td>BROOKLYN</td>\n",
       "      <td>The Department of Housing Preservation and Dev...</td>\n",
       "      <td>BROOKLYN</td>\n",
       "      <td>UNKNOWN</td>\n",
       "    </tr>\n",
       "  </tbody>\n",
       "</table>\n",
       "<p>33780977 rows × 11 columns</p>\n",
       "</div>"
      ],
      "text/plain": [
       "                     Unique Key Agency  \\\n",
       "Created Date                             \n",
       "2011-04-06 00:00:00    20184537    HPD   \n",
       "2011-04-06 00:00:00    20184538    HPD   \n",
       "2011-04-06 00:00:00    20184539    HPD   \n",
       "2022-07-08 11:14:43    54732265   DSNY   \n",
       "2011-04-06 00:00:00    20184540    HPD   \n",
       "...                         ...    ...   \n",
       "2011-04-06 00:00:00    20184532    HPD   \n",
       "2011-04-06 00:00:00    20184533    HPD   \n",
       "2011-04-06 00:00:00    20184534    HPD   \n",
       "2011-04-06 00:00:00    20184535    HPD   \n",
       "2011-04-06 00:00:00    20184536    HPD   \n",
       "\n",
       "                                                           Agency Name  \\\n",
       "Created Date                                                             \n",
       "2011-04-06 00:00:00  Department of Housing Preservation and Develop...   \n",
       "2011-04-06 00:00:00  Department of Housing Preservation and Develop...   \n",
       "2011-04-06 00:00:00  Department of Housing Preservation and Develop...   \n",
       "2022-07-08 11:14:43                           Department of Sanitation   \n",
       "2011-04-06 00:00:00  Department of Housing Preservation and Develop...   \n",
       "...                                                                ...   \n",
       "2011-04-06 00:00:00  Department of Housing Preservation and Develop...   \n",
       "2011-04-06 00:00:00  Department of Housing Preservation and Develop...   \n",
       "2011-04-06 00:00:00  Department of Housing Preservation and Develop...   \n",
       "2011-04-06 00:00:00  Department of Housing Preservation and Develop...   \n",
       "2011-04-06 00:00:00  Department of Housing Preservation and Develop...   \n",
       "\n",
       "                           Complaint Type   Descriptor         Location Type  \\\n",
       "Created Date                                                                   \n",
       "2011-04-06 00:00:00               HEATING         HEAT  RESIDENTIAL BUILDING   \n",
       "2011-04-06 00:00:00  GENERAL CONSTRUCTION      WINDOWS  RESIDENTIAL BUILDING   \n",
       "2011-04-06 00:00:00       PAINT - PLASTER        WALLS  RESIDENTIAL BUILDING   \n",
       "2022-07-08 11:14:43       Dirty Condition        Trash              Sidewalk   \n",
       "2011-04-06 00:00:00              NONCONST       VERMIN  RESIDENTIAL BUILDING   \n",
       "...                                   ...          ...                   ...   \n",
       "2011-04-06 00:00:00               HEATING         HEAT  RESIDENTIAL BUILDING   \n",
       "2011-04-06 00:00:00               HEATING         HEAT  RESIDENTIAL BUILDING   \n",
       "2011-04-06 00:00:00  GENERAL CONSTRUCTION       STAIRS  RESIDENTIAL BUILDING   \n",
       "2011-04-06 00:00:00  GENERAL CONSTRUCTION          GAS  RESIDENTIAL BUILDING   \n",
       "2011-04-06 00:00:00              PLUMBING  WATER-LEAKS  RESIDENTIAL BUILDING   \n",
       "\n",
       "                    Incident Zip      City  \\\n",
       "Created Date                                 \n",
       "2011-04-06 00:00:00      10002.0  NEW YORK   \n",
       "2011-04-06 00:00:00      11236.0  BROOKLYN   \n",
       "2011-04-06 00:00:00      10460.0     BRONX   \n",
       "2022-07-08 11:14:43      10467.0     BRONX   \n",
       "2011-04-06 00:00:00      10460.0     BRONX   \n",
       "...                          ...       ...   \n",
       "2011-04-06 00:00:00        10468     BRONX   \n",
       "2011-04-06 00:00:00        10018  NEW YORK   \n",
       "2011-04-06 00:00:00        10460     BRONX   \n",
       "2011-04-06 00:00:00        11236  BROOKLYN   \n",
       "2011-04-06 00:00:00        11236  BROOKLYN   \n",
       "\n",
       "                                                Resolution Description  \\\n",
       "Created Date                                                             \n",
       "2011-04-06 00:00:00  More than one complaint was received for this ...   \n",
       "2011-04-06 00:00:00  The Department of Housing Preservation and Dev...   \n",
       "2011-04-06 00:00:00  The Department of Housing Preservation and Dev...   \n",
       "2022-07-08 11:14:43  The Department of Sanitation investigated this...   \n",
       "2011-04-06 00:00:00  The Department of Housing Preservation and Dev...   \n",
       "...                                                                ...   \n",
       "2011-04-06 00:00:00  The Department of Housing Preservation and Dev...   \n",
       "2011-04-06 00:00:00  More than one complaint was received for this ...   \n",
       "2011-04-06 00:00:00  The Department of Housing Preservation and Dev...   \n",
       "2011-04-06 00:00:00  The Department of Housing Preservation and Dev...   \n",
       "2011-04-06 00:00:00  The Department of Housing Preservation and Dev...   \n",
       "\n",
       "                       Borough Open Data Channel Type  \n",
       "Created Date                                           \n",
       "2011-04-06 00:00:00  MANHATTAN                UNKNOWN  \n",
       "2011-04-06 00:00:00   BROOKLYN                UNKNOWN  \n",
       "2011-04-06 00:00:00      BRONX                UNKNOWN  \n",
       "2022-07-08 11:14:43      BRONX                  PHONE  \n",
       "2011-04-06 00:00:00      BRONX                UNKNOWN  \n",
       "...                        ...                    ...  \n",
       "2011-04-06 00:00:00      BRONX                UNKNOWN  \n",
       "2011-04-06 00:00:00  MANHATTAN                UNKNOWN  \n",
       "2011-04-06 00:00:00      BRONX                UNKNOWN  \n",
       "2011-04-06 00:00:00   BROOKLYN                UNKNOWN  \n",
       "2011-04-06 00:00:00   BROOKLYN                UNKNOWN  \n",
       "\n",
       "[33780977 rows x 11 columns]"
      ]
     },
     "execution_count": 5,
     "metadata": {},
     "output_type": "execute_result"
    }
   ],
   "source": [
    "df"
   ]
  },
  {
   "cell_type": "code",
   "execution_count": 6,
   "id": "db2c257f-4017-461c-945a-20927de59544",
   "metadata": {
    "tags": []
   },
   "outputs": [
    {
     "data": {
      "text/plain": [
       "Index(['Unique Key', 'Agency', 'Agency Name', 'Complaint Type', 'Descriptor',\n",
       "       'Location Type', 'Incident Zip', 'City', 'Resolution Description',\n",
       "       'Borough', 'Open Data Channel Type'],\n",
       "      dtype='object')"
      ]
     },
     "execution_count": 6,
     "metadata": {},
     "output_type": "execute_result"
    }
   ],
   "source": [
    "df.columns"
   ]
  },
  {
   "cell_type": "code",
   "execution_count": 7,
   "id": "68e7a6c0-daa2-4926-b6ba-bbdacb0a2d91",
   "metadata": {
    "tags": []
   },
   "outputs": [],
   "source": [
    "df1 = df.loc['2022']"
   ]
  },
  {
   "cell_type": "code",
   "execution_count": 8,
   "id": "57fa5d5d-dd15-4dbb-ae45-6cfc7bb9faf4",
   "metadata": {
    "tags": []
   },
   "outputs": [
    {
     "name": "stdout",
     "output_type": "stream",
     "text": [
      "The average number of daily complaints received is: 8684.32\n"
     ]
    }
   ],
   "source": [
    "daily_complaints = df1.resample('D')['Unique Key'].nunique()\n",
    "average_daily_complaints = daily_complaints.mean()\n",
    "print(f\"The average number of daily complaints received is: {average_daily_complaints:.2f}\")"
   ]
  },
  {
   "cell_type": "code",
   "execution_count": 9,
   "id": "e9ac7202-9d9e-4723-a273-b3463982d688",
   "metadata": {
    "tags": []
   },
   "outputs": [
    {
     "name": "stdout",
     "output_type": "stream",
     "text": [
      "On 2020-08-04, the maximum number of calls were received.\n"
     ]
    }
   ],
   "source": [
    "daily_complaints = df['Unique Key'].resample('D').count()\n",
    "max_date = daily_complaints.idxmax()\n",
    "print(f\"On {max_date:%Y-%m-%d}, the maximum number of calls were received.\")"
   ]
  },
  {
   "cell_type": "code",
   "execution_count": 10,
   "id": "3f62175e-5d3a-4dbf-a825-85f6bd5fee19",
   "metadata": {
    "tags": []
   },
   "outputs": [
    {
     "name": "stdout",
     "output_type": "stream",
     "text": [
      "On 2020-08-04, the most important complaint type was 'Damaged Tree'.\n"
     ]
    }
   ],
   "source": [
    "complaints_on_max_date = df[df.index.date == max_date.date()]\n",
    "most_important_complaint_type = complaints_on_max_date['Complaint Type'].value_counts().idxmax()\n",
    "print(f\"On {max_date:%Y-%m-%d}, the most important complaint type was '{most_important_complaint_type}'.\")"
   ]
  },
  {
   "cell_type": "code",
   "execution_count": 11,
   "id": "c5eaf0cb-aa78-4e20-b64a-ff377f3a1ee6",
   "metadata": {
    "tags": []
   },
   "outputs": [
    {
     "name": "stdout",
     "output_type": "stream",
     "text": [
      "The quietest month historically is: August\n"
     ]
    }
   ],
   "source": [
    "monthly_calls = df.groupby(df.index.to_period('M'))['Unique Key'].nunique()\n",
    "quietest_month = monthly_calls.idxmin().to_timestamp()\n",
    "print(f\"The quietest month historically is: {quietest_month.strftime('%B')}\")"
   ]
  },
  {
   "cell_type": "code",
   "execution_count": 16,
   "id": "681128ce-054b-4701-a430-2363fe049939",
   "metadata": {
    "tags": []
   },
   "outputs": [
    {
     "name": "stdout",
     "output_type": "stream",
     "text": [
      "The rounded value of the seasonal component on 2020-12-25 is: 183\n"
     ]
    }
   ],
   "source": [
    "result = sm.tsa.seasonal_decompose(daily_complaints, model='additive')\n",
    "date_to_check = '2020-12-25'\n",
    "rounded_seasonal_component = round(result.seasonal[date_to_check])\n",
    "print(f\"The rounded value of the seasonal component on {date_to_check} is: {rounded_seasonal_component}\")"
   ]
  },
  {
   "cell_type": "code",
   "execution_count": 17,
   "id": "031bf363-1fe2-45e1-ba43-ee0b90a6509e",
   "metadata": {
    "tags": []
   },
   "outputs": [
    {
     "name": "stdout",
     "output_type": "stream",
     "text": [
      "The autocorrelation with the number of calls the day prior is: 0.75\n"
     ]
    }
   ],
   "source": [
    "lagged_series = daily_complaints.shift(1)\n",
    "\n",
    "# Calculate the autocorrelation\n",
    "autocorrelation = daily_complaints.corr(lagged_series)\n",
    "\n",
    "print(f\"The autocorrelation with the number of calls the day prior is: {autocorrelation:.2f}\")"
   ]
  },
  {
   "cell_type": "code",
   "execution_count": 93,
   "id": "282ac108-8e4b-4c96-9c5d-465158d967fb",
   "metadata": {
    "tags": []
   },
   "outputs": [],
   "source": [
    "train_set = daily_complaints.iloc[:-90]\n",
    "test_set = daily_complaints.iloc[-90:]"
   ]
  },
  {
   "cell_type": "code",
   "execution_count": 94,
   "id": "2a9e616d-30f5-475c-b23b-378d3c380cf9",
   "metadata": {
    "tags": []
   },
   "outputs": [
    {
     "data": {
      "text/plain": [
       "Created Date\n",
       "2010-01-01    2942\n",
       "2010-01-02    3958\n",
       "2010-01-03    5676\n",
       "2010-01-04    9763\n",
       "2010-01-05    8735\n",
       "Freq: D, Name: Unique Key, dtype: int64"
      ]
     },
     "execution_count": 94,
     "metadata": {},
     "output_type": "execute_result"
    }
   ],
   "source": [
    "train_set.head()"
   ]
  },
  {
   "cell_type": "code",
   "execution_count": 95,
   "id": "d7fab923-345d-4fd4-a532-937eff91bbcb",
   "metadata": {
    "tags": []
   },
   "outputs": [],
   "source": [
    "train_set_prophet = daily_complaints.reset_index()\n",
    "train_set_prophet.columns = ['ds', 'y']"
   ]
  },
  {
   "cell_type": "code",
   "execution_count": 96,
   "id": "58da5848-e3c1-42bd-b6b4-f0cdc0e3a40f",
   "metadata": {
    "tags": []
   },
   "outputs": [
    {
     "data": {
      "text/html": [
       "<div>\n",
       "<style scoped>\n",
       "    .dataframe tbody tr th:only-of-type {\n",
       "        vertical-align: middle;\n",
       "    }\n",
       "\n",
       "    .dataframe tbody tr th {\n",
       "        vertical-align: top;\n",
       "    }\n",
       "\n",
       "    .dataframe thead th {\n",
       "        text-align: right;\n",
       "    }\n",
       "</style>\n",
       "<table border=\"1\" class=\"dataframe\">\n",
       "  <thead>\n",
       "    <tr style=\"text-align: right;\">\n",
       "      <th></th>\n",
       "      <th>ds</th>\n",
       "      <th>y</th>\n",
       "    </tr>\n",
       "  </thead>\n",
       "  <tbody>\n",
       "    <tr>\n",
       "      <th>0</th>\n",
       "      <td>2010-01-01</td>\n",
       "      <td>2942</td>\n",
       "    </tr>\n",
       "    <tr>\n",
       "      <th>1</th>\n",
       "      <td>2010-01-02</td>\n",
       "      <td>3958</td>\n",
       "    </tr>\n",
       "    <tr>\n",
       "      <th>2</th>\n",
       "      <td>2010-01-03</td>\n",
       "      <td>5676</td>\n",
       "    </tr>\n",
       "    <tr>\n",
       "      <th>3</th>\n",
       "      <td>2010-01-04</td>\n",
       "      <td>9763</td>\n",
       "    </tr>\n",
       "    <tr>\n",
       "      <th>4</th>\n",
       "      <td>2010-01-05</td>\n",
       "      <td>8735</td>\n",
       "    </tr>\n",
       "  </tbody>\n",
       "</table>\n",
       "</div>"
      ],
      "text/plain": [
       "          ds     y\n",
       "0 2010-01-01  2942\n",
       "1 2010-01-02  3958\n",
       "2 2010-01-03  5676\n",
       "3 2010-01-04  9763\n",
       "4 2010-01-05  8735"
      ]
     },
     "execution_count": 96,
     "metadata": {},
     "output_type": "execute_result"
    }
   ],
   "source": [
    "train_set_prophet.head()"
   ]
  },
  {
   "cell_type": "code",
   "execution_count": 97,
   "id": "0270e5ab-a4f3-4b54-a307-34ad8b7ac29d",
   "metadata": {
    "tags": []
   },
   "outputs": [
    {
     "name": "stderr",
     "output_type": "stream",
     "text": [
      "20:34:02 - cmdstanpy - INFO - Chain [1] start processing\n",
      "20:34:03 - cmdstanpy - INFO - Chain [1] done processing\n"
     ]
    },
    {
     "data": {
      "text/plain": [
       "<prophet.forecaster.Prophet at 0x7fb62aeb0fa0>"
      ]
     },
     "execution_count": 97,
     "metadata": {},
     "output_type": "execute_result"
    }
   ],
   "source": [
    "model = Prophet()\n",
    "model.fit(train_set_prophet)"
   ]
  },
  {
   "cell_type": "code",
   "execution_count": 98,
   "id": "0690093a-51b2-43fd-9b27-16ac861736d8",
   "metadata": {
    "tags": []
   },
   "outputs": [
    {
     "data": {
      "text/html": [
       "<div>\n",
       "<style scoped>\n",
       "    .dataframe tbody tr th:only-of-type {\n",
       "        vertical-align: middle;\n",
       "    }\n",
       "\n",
       "    .dataframe tbody tr th {\n",
       "        vertical-align: top;\n",
       "    }\n",
       "\n",
       "    .dataframe thead th {\n",
       "        text-align: right;\n",
       "    }\n",
       "</style>\n",
       "<table border=\"1\" class=\"dataframe\">\n",
       "  <thead>\n",
       "    <tr style=\"text-align: right;\">\n",
       "      <th></th>\n",
       "      <th>ds</th>\n",
       "    </tr>\n",
       "  </thead>\n",
       "  <tbody>\n",
       "    <tr>\n",
       "      <th>5049</th>\n",
       "      <td>2023-10-29</td>\n",
       "    </tr>\n",
       "    <tr>\n",
       "      <th>5050</th>\n",
       "      <td>2023-10-30</td>\n",
       "    </tr>\n",
       "    <tr>\n",
       "      <th>5051</th>\n",
       "      <td>2023-10-31</td>\n",
       "    </tr>\n",
       "    <tr>\n",
       "      <th>5052</th>\n",
       "      <td>2023-11-01</td>\n",
       "    </tr>\n",
       "    <tr>\n",
       "      <th>5053</th>\n",
       "      <td>2023-11-02</td>\n",
       "    </tr>\n",
       "  </tbody>\n",
       "</table>\n",
       "</div>"
      ],
      "text/plain": [
       "             ds\n",
       "5049 2023-10-29\n",
       "5050 2023-10-30\n",
       "5051 2023-10-31\n",
       "5052 2023-11-01\n",
       "5053 2023-11-02"
      ]
     },
     "execution_count": 98,
     "metadata": {},
     "output_type": "execute_result"
    }
   ],
   "source": [
    "future = model.make_future_dataframe(periods=90,freq = 'd')\n",
    "future.tail()"
   ]
  },
  {
   "cell_type": "code",
   "execution_count": 99,
   "id": "fd0e8c77-917b-472e-9557-d663fceacfdd",
   "metadata": {
    "tags": []
   },
   "outputs": [
    {
     "data": {
      "text/plain": [
       "(5054, 1)"
      ]
     },
     "execution_count": 99,
     "metadata": {},
     "output_type": "execute_result"
    }
   ],
   "source": [
    "future.shape"
   ]
  },
  {
   "cell_type": "code",
   "execution_count": 100,
   "id": "97d2a828-7f4e-492e-91d8-37c99e1a2436",
   "metadata": {
    "tags": []
   },
   "outputs": [],
   "source": [
    "forecast = model.predict(future)"
   ]
  },
  {
   "cell_type": "code",
   "execution_count": 101,
   "id": "80d80fee-c79d-4774-b64f-733024fee26c",
   "metadata": {
    "tags": []
   },
   "outputs": [
    {
     "data": {
      "text/plain": [
       "Index(['ds', 'trend', 'yhat_lower', 'yhat_upper', 'trend_lower', 'trend_upper',\n",
       "       'additive_terms', 'additive_terms_lower', 'additive_terms_upper',\n",
       "       'weekly', 'weekly_lower', 'weekly_upper', 'yearly', 'yearly_lower',\n",
       "       'yearly_upper', 'multiplicative_terms', 'multiplicative_terms_lower',\n",
       "       'multiplicative_terms_upper', 'yhat'],\n",
       "      dtype='object')"
      ]
     },
     "execution_count": 101,
     "metadata": {},
     "output_type": "execute_result"
    }
   ],
   "source": [
    "forecast.columns"
   ]
  },
  {
   "cell_type": "code",
   "execution_count": 102,
   "id": "6ebe2ee7-c9d0-473b-a786-371cd19d0ac9",
   "metadata": {
    "tags": []
   },
   "outputs": [
    {
     "data": {
      "text/html": [
       "<div>\n",
       "<style scoped>\n",
       "    .dataframe tbody tr th:only-of-type {\n",
       "        vertical-align: middle;\n",
       "    }\n",
       "\n",
       "    .dataframe tbody tr th {\n",
       "        vertical-align: top;\n",
       "    }\n",
       "\n",
       "    .dataframe thead th {\n",
       "        text-align: right;\n",
       "    }\n",
       "</style>\n",
       "<table border=\"1\" class=\"dataframe\">\n",
       "  <thead>\n",
       "    <tr style=\"text-align: right;\">\n",
       "      <th></th>\n",
       "      <th>ds</th>\n",
       "      <th>trend</th>\n",
       "      <th>yhat_lower</th>\n",
       "      <th>yhat_upper</th>\n",
       "      <th>trend_lower</th>\n",
       "      <th>trend_upper</th>\n",
       "      <th>additive_terms</th>\n",
       "      <th>additive_terms_lower</th>\n",
       "      <th>additive_terms_upper</th>\n",
       "      <th>weekly</th>\n",
       "      <th>weekly_lower</th>\n",
       "      <th>weekly_upper</th>\n",
       "      <th>yearly</th>\n",
       "      <th>yearly_lower</th>\n",
       "      <th>yearly_upper</th>\n",
       "      <th>multiplicative_terms</th>\n",
       "      <th>multiplicative_terms_lower</th>\n",
       "      <th>multiplicative_terms_upper</th>\n",
       "      <th>yhat</th>\n",
       "    </tr>\n",
       "  </thead>\n",
       "  <tbody>\n",
       "    <tr>\n",
       "      <th>0</th>\n",
       "      <td>2010-01-01</td>\n",
       "      <td>5931.551005</td>\n",
       "      <td>4184.098807</td>\n",
       "      <td>6984.079574</td>\n",
       "      <td>5931.551005</td>\n",
       "      <td>5931.551005</td>\n",
       "      <td>-349.171542</td>\n",
       "      <td>-349.171542</td>\n",
       "      <td>-349.171542</td>\n",
       "      <td>168.899548</td>\n",
       "      <td>168.899548</td>\n",
       "      <td>168.899548</td>\n",
       "      <td>-518.071089</td>\n",
       "      <td>-518.071089</td>\n",
       "      <td>-518.071089</td>\n",
       "      <td>0.0</td>\n",
       "      <td>0.0</td>\n",
       "      <td>0.0</td>\n",
       "      <td>5582.379463</td>\n",
       "    </tr>\n",
       "    <tr>\n",
       "      <th>1</th>\n",
       "      <td>2010-01-02</td>\n",
       "      <td>5930.596050</td>\n",
       "      <td>2919.220116</td>\n",
       "      <td>5770.203135</td>\n",
       "      <td>5930.596050</td>\n",
       "      <td>5930.596050</td>\n",
       "      <td>-1570.219604</td>\n",
       "      <td>-1570.219604</td>\n",
       "      <td>-1570.219604</td>\n",
       "      <td>-1095.034775</td>\n",
       "      <td>-1095.034775</td>\n",
       "      <td>-1095.034775</td>\n",
       "      <td>-475.184829</td>\n",
       "      <td>-475.184829</td>\n",
       "      <td>-475.184829</td>\n",
       "      <td>0.0</td>\n",
       "      <td>0.0</td>\n",
       "      <td>0.0</td>\n",
       "      <td>4360.376446</td>\n",
       "    </tr>\n",
       "    <tr>\n",
       "      <th>2</th>\n",
       "      <td>2010-01-03</td>\n",
       "      <td>5929.641096</td>\n",
       "      <td>2760.367433</td>\n",
       "      <td>5667.691459</td>\n",
       "      <td>5929.641096</td>\n",
       "      <td>5929.641096</td>\n",
       "      <td>-1742.994827</td>\n",
       "      <td>-1742.994827</td>\n",
       "      <td>-1742.994827</td>\n",
       "      <td>-1316.462036</td>\n",
       "      <td>-1316.462036</td>\n",
       "      <td>-1316.462036</td>\n",
       "      <td>-426.532791</td>\n",
       "      <td>-426.532791</td>\n",
       "      <td>-426.532791</td>\n",
       "      <td>0.0</td>\n",
       "      <td>0.0</td>\n",
       "      <td>0.0</td>\n",
       "      <td>4186.646269</td>\n",
       "    </tr>\n",
       "    <tr>\n",
       "      <th>3</th>\n",
       "      <td>2010-01-04</td>\n",
       "      <td>5928.686141</td>\n",
       "      <td>4807.022273</td>\n",
       "      <td>7660.626870</td>\n",
       "      <td>5928.686141</td>\n",
       "      <td>5928.686141</td>\n",
       "      <td>263.820580</td>\n",
       "      <td>263.820580</td>\n",
       "      <td>263.820580</td>\n",
       "      <td>636.716346</td>\n",
       "      <td>636.716346</td>\n",
       "      <td>636.716346</td>\n",
       "      <td>-372.895767</td>\n",
       "      <td>-372.895767</td>\n",
       "      <td>-372.895767</td>\n",
       "      <td>0.0</td>\n",
       "      <td>0.0</td>\n",
       "      <td>0.0</td>\n",
       "      <td>6192.506721</td>\n",
       "    </tr>\n",
       "    <tr>\n",
       "      <th>4</th>\n",
       "      <td>2010-01-05</td>\n",
       "      <td>5927.731187</td>\n",
       "      <td>4851.169775</td>\n",
       "      <td>7784.600000</td>\n",
       "      <td>5927.731187</td>\n",
       "      <td>5927.731187</td>\n",
       "      <td>381.136229</td>\n",
       "      <td>381.136229</td>\n",
       "      <td>381.136229</td>\n",
       "      <td>696.294051</td>\n",
       "      <td>696.294051</td>\n",
       "      <td>696.294051</td>\n",
       "      <td>-315.157822</td>\n",
       "      <td>-315.157822</td>\n",
       "      <td>-315.157822</td>\n",
       "      <td>0.0</td>\n",
       "      <td>0.0</td>\n",
       "      <td>0.0</td>\n",
       "      <td>6308.867416</td>\n",
       "    </tr>\n",
       "  </tbody>\n",
       "</table>\n",
       "</div>"
      ],
      "text/plain": [
       "          ds        trend   yhat_lower   yhat_upper  trend_lower  trend_upper  \\\n",
       "0 2010-01-01  5931.551005  4184.098807  6984.079574  5931.551005  5931.551005   \n",
       "1 2010-01-02  5930.596050  2919.220116  5770.203135  5930.596050  5930.596050   \n",
       "2 2010-01-03  5929.641096  2760.367433  5667.691459  5929.641096  5929.641096   \n",
       "3 2010-01-04  5928.686141  4807.022273  7660.626870  5928.686141  5928.686141   \n",
       "4 2010-01-05  5927.731187  4851.169775  7784.600000  5927.731187  5927.731187   \n",
       "\n",
       "   additive_terms  additive_terms_lower  additive_terms_upper       weekly  \\\n",
       "0     -349.171542           -349.171542           -349.171542   168.899548   \n",
       "1    -1570.219604          -1570.219604          -1570.219604 -1095.034775   \n",
       "2    -1742.994827          -1742.994827          -1742.994827 -1316.462036   \n",
       "3      263.820580            263.820580            263.820580   636.716346   \n",
       "4      381.136229            381.136229            381.136229   696.294051   \n",
       "\n",
       "   weekly_lower  weekly_upper      yearly  yearly_lower  yearly_upper  \\\n",
       "0    168.899548    168.899548 -518.071089   -518.071089   -518.071089   \n",
       "1  -1095.034775  -1095.034775 -475.184829   -475.184829   -475.184829   \n",
       "2  -1316.462036  -1316.462036 -426.532791   -426.532791   -426.532791   \n",
       "3    636.716346    636.716346 -372.895767   -372.895767   -372.895767   \n",
       "4    696.294051    696.294051 -315.157822   -315.157822   -315.157822   \n",
       "\n",
       "   multiplicative_terms  multiplicative_terms_lower  \\\n",
       "0                   0.0                         0.0   \n",
       "1                   0.0                         0.0   \n",
       "2                   0.0                         0.0   \n",
       "3                   0.0                         0.0   \n",
       "4                   0.0                         0.0   \n",
       "\n",
       "   multiplicative_terms_upper         yhat  \n",
       "0                         0.0  5582.379463  \n",
       "1                         0.0  4360.376446  \n",
       "2                         0.0  4186.646269  \n",
       "3                         0.0  6192.506721  \n",
       "4                         0.0  6308.867416  "
      ]
     },
     "execution_count": 102,
     "metadata": {},
     "output_type": "execute_result"
    }
   ],
   "source": [
    "forecast.head()"
   ]
  },
  {
   "cell_type": "code",
   "execution_count": 103,
   "id": "648396d7-0b12-4e4d-a16b-6eae2f44899a",
   "metadata": {
    "tags": []
   },
   "outputs": [
    {
     "data": {
      "text/html": [
       "<div>\n",
       "<style scoped>\n",
       "    .dataframe tbody tr th:only-of-type {\n",
       "        vertical-align: middle;\n",
       "    }\n",
       "\n",
       "    .dataframe tbody tr th {\n",
       "        vertical-align: top;\n",
       "    }\n",
       "\n",
       "    .dataframe thead th {\n",
       "        text-align: right;\n",
       "    }\n",
       "</style>\n",
       "<table border=\"1\" class=\"dataframe\">\n",
       "  <thead>\n",
       "    <tr style=\"text-align: right;\">\n",
       "      <th></th>\n",
       "      <th>Prediction</th>\n",
       "    </tr>\n",
       "    <tr>\n",
       "      <th>Date</th>\n",
       "      <th></th>\n",
       "    </tr>\n",
       "  </thead>\n",
       "  <tbody>\n",
       "    <tr>\n",
       "      <th>2023-08-05</th>\n",
       "      <td>7780.661422</td>\n",
       "    </tr>\n",
       "    <tr>\n",
       "      <th>2023-08-06</th>\n",
       "      <td>7536.484583</td>\n",
       "    </tr>\n",
       "    <tr>\n",
       "      <th>2023-08-07</th>\n",
       "      <td>9465.004750</td>\n",
       "    </tr>\n",
       "    <tr>\n",
       "      <th>2023-08-08</th>\n",
       "      <td>9498.286358</td>\n",
       "    </tr>\n",
       "    <tr>\n",
       "      <th>2023-08-09</th>\n",
       "      <td>9304.462716</td>\n",
       "    </tr>\n",
       "    <tr>\n",
       "      <th>...</th>\n",
       "      <td>...</td>\n",
       "    </tr>\n",
       "    <tr>\n",
       "      <th>2023-10-29</th>\n",
       "      <td>7747.740649</td>\n",
       "    </tr>\n",
       "    <tr>\n",
       "      <th>2023-10-30</th>\n",
       "      <td>9704.760190</td>\n",
       "    </tr>\n",
       "    <tr>\n",
       "      <th>2023-10-31</th>\n",
       "      <td>9761.019139</td>\n",
       "    </tr>\n",
       "    <tr>\n",
       "      <th>2023-11-01</th>\n",
       "      <td>9584.426823</td>\n",
       "    </tr>\n",
       "    <tr>\n",
       "      <th>2023-11-02</th>\n",
       "      <td>9416.589269</td>\n",
       "    </tr>\n",
       "  </tbody>\n",
       "</table>\n",
       "<p>90 rows × 1 columns</p>\n",
       "</div>"
      ],
      "text/plain": [
       "             Prediction\n",
       "Date                   \n",
       "2023-08-05  7780.661422\n",
       "2023-08-06  7536.484583\n",
       "2023-08-07  9465.004750\n",
       "2023-08-08  9498.286358\n",
       "2023-08-09  9304.462716\n",
       "...                 ...\n",
       "2023-10-29  7747.740649\n",
       "2023-10-30  9704.760190\n",
       "2023-10-31  9761.019139\n",
       "2023-11-01  9584.426823\n",
       "2023-11-02  9416.589269\n",
       "\n",
       "[90 rows x 1 columns]"
      ]
     },
     "execution_count": 103,
     "metadata": {},
     "output_type": "execute_result"
    }
   ],
   "source": [
    "preds = pd.DataFrame({'Prediction': forecast.yhat[-90:]})\n",
    "preds.index = pd.to_datetime(forecast.ds[-90:])\n",
    "preds.index.names = ['Date']\n",
    "preds"
   ]
  },
  {
   "cell_type": "code",
   "execution_count": 104,
   "id": "c2edfd61-884e-4f5d-a161-58d128661825",
   "metadata": {
    "tags": []
   },
   "outputs": [
    {
     "data": {
      "text/plain": [
       "Created Date\n",
       "2023-05-07    9102\n",
       "2023-05-08    9709\n",
       "2023-05-09    9309\n",
       "2023-05-10    9110\n",
       "2023-05-11    9155\n",
       "              ... \n",
       "2023-07-31    9921\n",
       "2023-08-01    9813\n",
       "2023-08-02    9245\n",
       "2023-08-03    9128\n",
       "2023-08-04     384\n",
       "Freq: D, Name: Unique Key, Length: 90, dtype: int64"
      ]
     },
     "execution_count": 104,
     "metadata": {},
     "output_type": "execute_result"
    }
   ],
   "source": [
    "test_set"
   ]
  },
  {
   "cell_type": "code",
   "execution_count": 106,
   "id": "b5db1225-5a6d-48bc-81bb-0d8c8652a6fd",
   "metadata": {
    "tags": []
   },
   "outputs": [
    {
     "data": {
      "text/html": [
       "<div>\n",
       "<style scoped>\n",
       "    .dataframe tbody tr th:only-of-type {\n",
       "        vertical-align: middle;\n",
       "    }\n",
       "\n",
       "    .dataframe tbody tr th {\n",
       "        vertical-align: top;\n",
       "    }\n",
       "\n",
       "    .dataframe thead th {\n",
       "        text-align: right;\n",
       "    }\n",
       "</style>\n",
       "<table border=\"1\" class=\"dataframe\">\n",
       "  <thead>\n",
       "    <tr style=\"text-align: right;\">\n",
       "      <th></th>\n",
       "      <th>y_test</th>\n",
       "      <th>y_pred</th>\n",
       "      <th>diff</th>\n",
       "    </tr>\n",
       "    <tr>\n",
       "      <th>Date</th>\n",
       "      <th></th>\n",
       "      <th></th>\n",
       "      <th></th>\n",
       "    </tr>\n",
       "  </thead>\n",
       "  <tbody>\n",
       "    <tr>\n",
       "      <th>2023-08-05</th>\n",
       "      <td>9102</td>\n",
       "      <td>7780.661422</td>\n",
       "      <td>1321.338578</td>\n",
       "    </tr>\n",
       "    <tr>\n",
       "      <th>2023-08-06</th>\n",
       "      <td>9709</td>\n",
       "      <td>7536.484583</td>\n",
       "      <td>2172.515417</td>\n",
       "    </tr>\n",
       "    <tr>\n",
       "      <th>2023-08-07</th>\n",
       "      <td>9309</td>\n",
       "      <td>9465.004750</td>\n",
       "      <td>-156.004750</td>\n",
       "    </tr>\n",
       "    <tr>\n",
       "      <th>2023-08-08</th>\n",
       "      <td>9110</td>\n",
       "      <td>9498.286358</td>\n",
       "      <td>-388.286358</td>\n",
       "    </tr>\n",
       "    <tr>\n",
       "      <th>2023-08-09</th>\n",
       "      <td>9155</td>\n",
       "      <td>9304.462716</td>\n",
       "      <td>-149.462716</td>\n",
       "    </tr>\n",
       "    <tr>\n",
       "      <th>...</th>\n",
       "      <td>...</td>\n",
       "      <td>...</td>\n",
       "      <td>...</td>\n",
       "    </tr>\n",
       "    <tr>\n",
       "      <th>2023-10-29</th>\n",
       "      <td>9921</td>\n",
       "      <td>7747.740649</td>\n",
       "      <td>2173.259351</td>\n",
       "    </tr>\n",
       "    <tr>\n",
       "      <th>2023-10-30</th>\n",
       "      <td>9813</td>\n",
       "      <td>9704.760190</td>\n",
       "      <td>108.239810</td>\n",
       "    </tr>\n",
       "    <tr>\n",
       "      <th>2023-10-31</th>\n",
       "      <td>9245</td>\n",
       "      <td>9761.019139</td>\n",
       "      <td>-516.019139</td>\n",
       "    </tr>\n",
       "    <tr>\n",
       "      <th>2023-11-01</th>\n",
       "      <td>9128</td>\n",
       "      <td>9584.426823</td>\n",
       "      <td>-456.426823</td>\n",
       "    </tr>\n",
       "    <tr>\n",
       "      <th>2023-11-02</th>\n",
       "      <td>384</td>\n",
       "      <td>9416.589269</td>\n",
       "      <td>-9032.589269</td>\n",
       "    </tr>\n",
       "  </tbody>\n",
       "</table>\n",
       "<p>90 rows × 3 columns</p>\n",
       "</div>"
      ],
      "text/plain": [
       "            y_test       y_pred         diff\n",
       "Date                                        \n",
       "2023-08-05    9102  7780.661422  1321.338578\n",
       "2023-08-06    9709  7536.484583  2172.515417\n",
       "2023-08-07    9309  9465.004750  -156.004750\n",
       "2023-08-08    9110  9498.286358  -388.286358\n",
       "2023-08-09    9155  9304.462716  -149.462716\n",
       "...            ...          ...          ...\n",
       "2023-10-29    9921  7747.740649  2173.259351\n",
       "2023-10-30    9813  9704.760190   108.239810\n",
       "2023-10-31    9245  9761.019139  -516.019139\n",
       "2023-11-01    9128  9584.426823  -456.426823\n",
       "2023-11-02     384  9416.589269 -9032.589269\n",
       "\n",
       "[90 rows x 3 columns]"
      ]
     },
     "execution_count": 106,
     "metadata": {},
     "output_type": "execute_result"
    }
   ],
   "source": [
    "y_test = test_set.values\n",
    "y_pred = preds['Prediction']\n",
    "pd.DataFrame({'y_test': y_test, 'y_pred' : y_pred, 'diff':y_test - y_pred})"
   ]
  },
  {
   "cell_type": "code",
   "execution_count": 107,
   "id": "dbd8c572-500a-4bb3-a35a-9ed27aea812c",
   "metadata": {
    "tags": []
   },
   "outputs": [
    {
     "name": "stdout",
     "output_type": "stream",
     "text": [
      "MSE =  2173100.7311214292\n",
      "RMSE =  1474.1440672883466\n",
      "MAE =  937.4385423066217\n"
     ]
    }
   ],
   "source": [
    "from sklearn.metrics import mean_absolute_error, mean_squared_error\n",
    "print('MSE = ', mean_squared_error(y_test,y_pred))\n",
    "print('RMSE = ', np.sqrt(mean_squared_error(y_test,y_pred)))\n",
    "print('MAE = ', mean_absolute_error(y_test,y_pred))"
   ]
  },
  {
   "cell_type": "code",
   "execution_count": null,
   "id": "91460a51-fae1-4498-a5d1-a81ec1a1491c",
   "metadata": {},
   "outputs": [],
   "source": []
  }
 ],
 "metadata": {
  "kernelspec": {
   "display_name": "Python [conda env:mggy8413]",
   "language": "python",
   "name": "conda-env-mggy8413-py"
  },
  "language_info": {
   "codemirror_mode": {
    "name": "ipython",
    "version": 3
   },
   "file_extension": ".py",
   "mimetype": "text/x-python",
   "name": "python",
   "nbconvert_exporter": "python",
   "pygments_lexer": "ipython3",
   "version": "3.10.12"
  }
 },
 "nbformat": 4,
 "nbformat_minor": 5
}
